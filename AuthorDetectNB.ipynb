{
 "cells": [
  {
   "cell_type": "code",
   "execution_count": 260,
   "metadata": {},
   "outputs": [],
   "source": [
    "import re"
   ]
  },
  {
   "cell_type": "code",
   "execution_count": 261,
   "metadata": {},
   "outputs": [],
   "source": [
    "import numpy as np # linear algebra\n",
    "import pandas as pd # data processing, CSV file I/O (e.g. pd.read_csv)\n",
    "import matplotlib.pyplot as plt\n",
    "import seaborn as sns\n",
    "import nltk\n",
    "import string\n",
    "import xgboost as xgb\n",
    "from sklearn.feature_extraction.text import TfidfVectorizer, CountVectorizer\n",
    "from sklearn.decomposition import TruncatedSVD\n",
    "from sklearn import ensemble, metrics, model_selection, naive_bayes\n",
    "color = sns.color_palette()\n",
    "\n",
    "%matplotlib inline\n"
   ]
  },
  {
   "cell_type": "code",
   "execution_count": 355,
   "metadata": {
    "collapsed": true
   },
   "outputs": [],
   "source": [
    "tdf=pd.read_csv('./train 3.csv');train_df=tdf[:];test_df=pd.read_csv('./test 3.csv')"
   ]
  },
  {
   "cell_type": "code",
   "execution_count": 415,
   "metadata": {},
   "outputs": [],
   "source": [
    "tfidf_vec = CountVectorizer(stop_words='english', ngram_range=(1,4))\n",
    "full_tfidf = tfidf_vec.fit_transform(train_df['text'].values.tolist() + test_df['text'].values.tolist())\n",
    "train_tfidf = tfidf_vec.transform(train_df['text'].values.tolist())\n",
    "test_tfidf = tfidf_vec.transform(test_df['text'].values.tolist())"
   ]
  },
  {
   "cell_type": "code",
   "execution_count": 232,
   "metadata": {},
   "outputs": [],
   "source": [
    "tfidf_vec1 = TfidfVectorizer(stop_words='english', ngram_range=(1,4))\n",
    "full_tfidf11 = tfidf_vec.fit_transform(train_df['text'].values.tolist() + test_df['text'].values.tolist())\n",
    "train_tfidf1 = tfidf_vec.transform(train_df['text'].values.tolist())\n",
    "test_tfidf1 = tfidf_vec.transform(test_df['text'].values.tolist())"
   ]
  },
  {
   "cell_type": "code",
   "execution_count": 233,
   "metadata": {
    "collapsed": true
   },
   "outputs": [],
   "source": [
    "def splitter(x,g):\n",
    "    return(re.compile(g).split(x))"
   ]
  },
  {
   "cell_type": "code",
   "execution_count": 234,
   "metadata": {
    "collapsed": true
   },
   "outputs": [],
   "source": [
    "def feature_extractor(x):\n",
    "    #return(ngram_feature_extractor(x,3))\n",
    "    a1=x.split()\n",
    "    a2=splitter(x,',.;')\n",
    "    a3=splitter(x,'\"')\n",
    "    a4=splitter(x,\"ABCDEFGHIJKLMNOPQRSTUVWXYZ\");\n",
    "    a5=float(len(x))/float(len(a1));\n",
    "    a6=splitter(x,\"0123456789\")\n",
    "    a7=splitter(x,'><*&^%$#@~`')\n",
    "    a8=splitter(x,\"!?\")\n",
    "    a9=x.split(\"i \")\n",
    "    a10=x.split(\", and\")\n",
    "    a11=x.split(\"greek\")\n",
    "    a12=x.split(\"what \")\n",
    "    a13=x.split(\"however \")\n",
    "    a14=len(x)\n",
    "    return([a14,len(a1),len(a2)/float(len(a1)),a5,len(a9)/float(len(a1)),len(a10)/float(len(a1)),len(a11)/float(len(a1)),len(a12)/float(len(a1)),len(a13)/float(len(a1))])\n",
    "    #return([len(a1),len(a2)/float(len(a1)),a5,len(a6)/float(len(a1)),len(a7)/float(len(a1)),len(a8)/float(len(a1)),len(a9)/float(len(a1)),len(a10)/float(len(a1)),len(a11)/float(len(a1))])\n",
    "    #return([len(a1),len(a2),len(a3),len(a4),a5,len(a6),len(a7),len(a8),len(a9),len(a10),len(a11)])"
   ]
  },
  {
   "cell_type": "code",
   "execution_count": 235,
   "metadata": {},
   "outputs": [
    {
     "name": "stderr",
     "output_type": "stream",
     "text": [
      "/Library/Frameworks/Python.framework/Versions/3.6/lib/python3.6/site-packages/ipykernel_launcher.py:2: FutureWarning: split() requires a non-empty pattern match.\n",
      "  \n"
     ]
    }
   ],
   "source": [
    "train_extra_features=scipy.sparse.csr_matrix([feature_extractor(m) for m in train_df['text']]);\n",
    "test_extra_features=scipy.sparse.csr_matrix([feature_extractor(m) for m in test_df['text']]);"
   ]
  },
  {
   "cell_type": "code",
   "execution_count": 236,
   "metadata": {
    "collapsed": true
   },
   "outputs": [],
   "source": [
    "import scipy"
   ]
  },
  {
   "cell_type": "code",
   "execution_count": 288,
   "metadata": {},
   "outputs": [
    {
     "data": {
      "text/plain": [
       "(8392, 9)"
      ]
     },
     "execution_count": 288,
     "metadata": {},
     "output_type": "execute_result"
    }
   ],
   "source": [
    "test_extra_features.shape"
   ]
  },
  {
   "cell_type": "code",
   "execution_count": 238,
   "metadata": {},
   "outputs": [
    {
     "data": {
      "text/plain": [
       "0"
      ]
     },
     "execution_count": 238,
     "metadata": {},
     "output_type": "execute_result"
    }
   ],
   "source": [
    "train_tfidf1[0,1]"
   ]
  },
  {
   "cell_type": "code",
   "execution_count": 239,
   "metadata": {},
   "outputs": [],
   "source": [
    "#train_tfidf=scipy.sparse.hstack((train_tfidf,train_tfidf1));\n",
    "train_tfidf=scipy.sparse.hstack((train_tfidf,train_extra_features));"
   ]
  },
  {
   "cell_type": "code",
   "execution_count": 240,
   "metadata": {},
   "outputs": [],
   "source": [
    "#test_tfidf=scipy.sparse.hstack((test_tfidf,test_tfidf1));\n",
    "test_tfidf=scipy.sparse.hstack((test_tfidf,test_extra_features));"
   ]
  },
  {
   "cell_type": "code",
   "execution_count": 416,
   "metadata": {},
   "outputs": [],
   "source": [
    "train_tfidf=scipy.sparse.csr_matrix(train_tfidf);test_tfidf=scipy.sparse.csr_matrix(test_tfidf)"
   ]
  },
  {
   "cell_type": "code",
   "execution_count": 401,
   "metadata": {
    "collapsed": true
   },
   "outputs": [],
   "source": [
    "train_tfidf=scipy.sparse.hstack((train_tfidf,wq0*1))"
   ]
  },
  {
   "cell_type": "code",
   "execution_count": 399,
   "metadata": {
    "collapsed": true
   },
   "outputs": [],
   "source": [
    "test_tfidf=scipy.sparse.hstack((test_tfidf,wq0*1))"
   ]
  },
  {
   "cell_type": "code",
   "execution_count": 417,
   "metadata": {
    "collapsed": true
   },
   "outputs": [],
   "source": [
    "def runMNB(train_X, train_y, test_X, test_y, test_X2):\n",
    "    model = naive_bayes.MultinomialNB()\n",
    "    model.fit(train_X, train_y)\n",
    "    pred_test_y = model.predict_proba(test_X)\n",
    "    pred_test_y2 = model.predict_proba(test_X2)\n",
    "    return pred_test_y, pred_test_y2, model"
   ]
  },
  {
   "cell_type": "code",
   "execution_count": 418,
   "metadata": {
    "collapsed": true
   },
   "outputs": [],
   "source": [
    "author_mapping_dict = {'EAP':0, 'HPL':1, 'MWS':2}\n",
    "train_y = train_df['author'].map(author_mapping_dict)"
   ]
  },
  {
   "cell_type": "code",
   "execution_count": 419,
   "metadata": {},
   "outputs": [
    {
     "name": "stdout",
     "output_type": "stream",
     "text": [
      "Mean cv score :  0.435300821639\n"
     ]
    }
   ],
   "source": [
    "cv_scores = []\n",
    "pred_full_test = 0\n",
    "pred_train = np.zeros([train_df.shape[0], 3])\n",
    "kf = model_selection.KFold(n_splits=500, shuffle=True, random_state=2017)\n",
    "for dev_index, val_index in kf.split(tdf):\n",
    "    dev_X, val_X = train_tfidf[dev_index], train_tfidf[val_index]\n",
    "    dev_y, val_y = train_y[dev_index], train_y[val_index]\n",
    "    pred_val_y, pred_test_y, model = runMNB(dev_X, dev_y, val_X, val_y, test_tfidf)\n",
    "    pred_full_test = pred_full_test + pred_test_y\n",
    "    pred_train[val_index,:] = pred_val_y\n",
    "    cv_scores.append(metrics.log_loss(val_y, pred_val_y))\n",
    "print(\"Mean cv score : \", np.mean(cv_scores))\n",
    "pred_full_test = pred_full_test / 500."
   ]
  },
  {
   "cell_type": "code",
   "execution_count": 184,
   "metadata": {},
   "outputs": [
    {
     "data": {
      "text/plain": [
       "(8392, 3)"
      ]
     },
     "execution_count": 184,
     "metadata": {},
     "output_type": "execute_result"
    }
   ],
   "source": [
    "pred_full_test.shape"
   ]
  },
  {
   "cell_type": "code",
   "execution_count": 277,
   "metadata": {},
   "outputs": [
    {
     "data": {
      "text/plain": [
       "0.93"
      ]
     },
     "execution_count": 277,
     "metadata": {},
     "output_type": "execute_result"
    }
   ],
   "source": [
    "0.9345-0.9345%0.01"
   ]
  },
  {
   "cell_type": "code",
   "execution_count": 282,
   "metadata": {
    "collapsed": true
   },
   "outputs": [],
   "source": [
    "pred_full_test2=pred_full_test*0.8+0.2*pred_full_test1"
   ]
  },
  {
   "cell_type": "code",
   "execution_count": 283,
   "metadata": {
    "collapsed": true
   },
   "outputs": [],
   "source": [
    "pred_full_test2=pred_full_test2-pred_full_test2%0.001"
   ]
  },
  {
   "cell_type": "code",
   "execution_count": 284,
   "metadata": {
    "collapsed": true
   },
   "outputs": [],
   "source": [
    "sub1=pd.read_csv(\"./sample_submission 2.csv\")"
   ]
  },
  {
   "cell_type": "code",
   "execution_count": 285,
   "metadata": {},
   "outputs": [],
   "source": [
    "sub1['EAP']=pred_full_test2[:,0];sub1['HPL']=pred_full_test2[:,1];sub1['MWS']=pred_full_test2[:,2]"
   ]
  },
  {
   "cell_type": "code",
   "execution_count": 287,
   "metadata": {
    "collapsed": true
   },
   "outputs": [],
   "source": [
    "sub1.to_csv(\"./sub55.csv\",index=False)"
   ]
  },
  {
   "cell_type": "code",
   "execution_count": 186,
   "metadata": {},
   "outputs": [
    {
     "data": {
      "text/plain": [
       "149.05740844782676"
      ]
     },
     "execution_count": 186,
     "metadata": {},
     "output_type": "execute_result"
    }
   ],
   "source": [
    "np.mean([len(s) for s in train_df['text']])"
   ]
  },
  {
   "cell_type": "code",
   "execution_count": 189,
   "metadata": {},
   "outputs": [
    {
     "data": {
      "text/plain": [
       "142.22594936708862"
      ]
     },
     "execution_count": 189,
     "metadata": {},
     "output_type": "execute_result"
    }
   ],
   "source": [
    "np.mean([len(s) for s in train_df['text'][train_df['author']=='EAP']])"
   ]
  },
  {
   "cell_type": "code",
   "execution_count": 190,
   "metadata": {},
   "outputs": [
    {
     "data": {
      "text/plain": [
       "151.65982792852415"
      ]
     },
     "execution_count": 190,
     "metadata": {},
     "output_type": "execute_result"
    }
   ],
   "source": [
    "np.mean([len(s) for s in train_df['text'][train_df['author']=='MWS']])"
   ]
  },
  {
   "cell_type": "code",
   "execution_count": 191,
   "metadata": {},
   "outputs": [
    {
     "data": {
      "text/plain": [
       "155.84347826086957"
      ]
     },
     "execution_count": 191,
     "metadata": {},
     "output_type": "execute_result"
    }
   ],
   "source": [
    "np.mean([len(s) for s in train_df['text'][train_df['author']=='HPL']])"
   ]
  },
  {
   "cell_type": "code",
   "execution_count": 248,
   "metadata": {
    "collapsed": true
   },
   "outputs": [],
   "source": [
    "def runXGB(train_X, train_y, test_X, test_y=None, test_X2=None, seed_val=0, child=1, colsample=0.3):\n",
    "    param = {}\n",
    "    param['objective'] = 'multi:softprob'\n",
    "    param['eta'] = 0.1\n",
    "    param['max_depth'] = 10\n",
    "    param['silent'] = 1\n",
    "    param['num_class'] = 3\n",
    "    param['eval_metric'] = \"mlogloss\"\n",
    "    param['min_child_weight'] = child\n",
    "    param['subsample'] = 0.8\n",
    "    param['colsample_bytree'] = colsample\n",
    "    param['seed'] = seed_val\n",
    "    param['nthread'] = 1000\n",
    "    #param['eval_metric'] = 'mlogloss'\n",
    "    num_rounds = 2000\n",
    "\n",
    "    plst = list(param.items())\n",
    "    xgtrain = xgb.DMatrix(train_X, label=train_y)\n",
    "\n",
    "    if test_y is not None:\n",
    "        xgtest = xgb.DMatrix(test_X, label=test_y)\n",
    "        watchlist = [ (xgtrain,'train'), (xgtest, 'test') ]\n",
    "        model = xgb.train(plst, xgtrain, num_rounds, watchlist, early_stopping_rounds=50, verbose_eval=20)\n",
    "    else:\n",
    "        xgtest = xgb.DMatrix(test_X)\n",
    "        model = xgb.train(plst, xgtrain, num_rounds)\n",
    "\n",
    "    pred_test_y = model.predict(xgtest, ntree_limit = model.best_ntree_limit)\n",
    "    if test_X2 is not None:\n",
    "        xgtest2 = xgb.DMatrix(test_X2)\n",
    "        pred_test_y2 = model.predict(xgtest2, ntree_limit = model.best_ntree_limit)\n",
    "    return pred_test_y, pred_test_y2, model"
   ]
  },
  {
   "cell_type": "code",
   "execution_count": 249,
   "metadata": {},
   "outputs": [
    {
     "name": "stdout",
     "output_type": "stream",
     "text": [
      "[0]\ttrain-mlogloss:1.08497\ttest-mlogloss:1.08754\n",
      "Multiple eval metrics have been passed: 'test-mlogloss' will be used for early stopping.\n",
      "\n",
      "Will train until test-mlogloss hasn't improved in 50 rounds.\n",
      "[20]\ttrain-mlogloss:0.935596\ttest-mlogloss:0.965599\n",
      "[40]\ttrain-mlogloss:0.861496\ttest-mlogloss:0.906483\n",
      "[60]\ttrain-mlogloss:0.810595\ttest-mlogloss:0.868511\n",
      "[80]\ttrain-mlogloss:0.771628\ttest-mlogloss:0.839387\n",
      "[100]\ttrain-mlogloss:0.73746\ttest-mlogloss:0.816761\n",
      "[120]\ttrain-mlogloss:0.707674\ttest-mlogloss:0.797166\n",
      "[140]\ttrain-mlogloss:0.682576\ttest-mlogloss:0.780502\n",
      "[160]\ttrain-mlogloss:0.659913\ttest-mlogloss:0.765866\n",
      "[180]\ttrain-mlogloss:0.639598\ttest-mlogloss:0.752304\n",
      "[200]\ttrain-mlogloss:0.619699\ttest-mlogloss:0.741121\n",
      "[220]\ttrain-mlogloss:0.602393\ttest-mlogloss:0.730281\n",
      "[240]\ttrain-mlogloss:0.586206\ttest-mlogloss:0.721803\n",
      "[260]\ttrain-mlogloss:0.571622\ttest-mlogloss:0.711835\n",
      "[280]\ttrain-mlogloss:0.557777\ttest-mlogloss:0.70344\n",
      "[300]\ttrain-mlogloss:0.544767\ttest-mlogloss:0.69628\n",
      "[320]\ttrain-mlogloss:0.532557\ttest-mlogloss:0.688767\n",
      "[340]\ttrain-mlogloss:0.520974\ttest-mlogloss:0.681839\n",
      "[360]\ttrain-mlogloss:0.510254\ttest-mlogloss:0.675849\n",
      "[380]\ttrain-mlogloss:0.499293\ttest-mlogloss:0.670135\n",
      "[400]\ttrain-mlogloss:0.489464\ttest-mlogloss:0.664288\n",
      "[420]\ttrain-mlogloss:0.480242\ttest-mlogloss:0.658779\n",
      "[440]\ttrain-mlogloss:0.471261\ttest-mlogloss:0.653935\n",
      "[460]\ttrain-mlogloss:0.462821\ttest-mlogloss:0.649352\n",
      "[480]\ttrain-mlogloss:0.454811\ttest-mlogloss:0.645805\n",
      "[500]\ttrain-mlogloss:0.446824\ttest-mlogloss:0.641722\n",
      "[520]\ttrain-mlogloss:0.439506\ttest-mlogloss:0.637641\n",
      "[540]\ttrain-mlogloss:0.43185\ttest-mlogloss:0.634016\n",
      "[560]\ttrain-mlogloss:0.424741\ttest-mlogloss:0.630427\n",
      "[580]\ttrain-mlogloss:0.417264\ttest-mlogloss:0.627454\n",
      "[600]\ttrain-mlogloss:0.410779\ttest-mlogloss:0.623749\n",
      "[620]\ttrain-mlogloss:0.403921\ttest-mlogloss:0.620844\n",
      "[640]\ttrain-mlogloss:0.397835\ttest-mlogloss:0.618243\n",
      "[660]\ttrain-mlogloss:0.392264\ttest-mlogloss:0.615991\n",
      "[680]\ttrain-mlogloss:0.386744\ttest-mlogloss:0.613048\n",
      "[700]\ttrain-mlogloss:0.380784\ttest-mlogloss:0.61083\n",
      "[720]\ttrain-mlogloss:0.374975\ttest-mlogloss:0.608811\n",
      "[740]\ttrain-mlogloss:0.369808\ttest-mlogloss:0.606534\n",
      "[760]\ttrain-mlogloss:0.364189\ttest-mlogloss:0.604537\n",
      "[780]\ttrain-mlogloss:0.35905\ttest-mlogloss:0.602401\n",
      "[800]\ttrain-mlogloss:0.354625\ttest-mlogloss:0.600796\n",
      "[820]\ttrain-mlogloss:0.350043\ttest-mlogloss:0.598574\n",
      "[840]\ttrain-mlogloss:0.345575\ttest-mlogloss:0.596913\n",
      "[860]\ttrain-mlogloss:0.340736\ttest-mlogloss:0.59511\n",
      "[880]\ttrain-mlogloss:0.335871\ttest-mlogloss:0.593212\n",
      "[900]\ttrain-mlogloss:0.331704\ttest-mlogloss:0.591877\n",
      "[920]\ttrain-mlogloss:0.327675\ttest-mlogloss:0.590402\n",
      "[940]\ttrain-mlogloss:0.323805\ttest-mlogloss:0.588645\n",
      "[960]\ttrain-mlogloss:0.319765\ttest-mlogloss:0.587382\n",
      "[980]\ttrain-mlogloss:0.315945\ttest-mlogloss:0.586105\n",
      "[1000]\ttrain-mlogloss:0.311809\ttest-mlogloss:0.584942\n",
      "[1020]\ttrain-mlogloss:0.308198\ttest-mlogloss:0.583895\n",
      "[1040]\ttrain-mlogloss:0.304415\ttest-mlogloss:0.582705\n",
      "[1060]\ttrain-mlogloss:0.300769\ttest-mlogloss:0.58191\n",
      "[1080]\ttrain-mlogloss:0.29736\ttest-mlogloss:0.580801\n",
      "[1100]\ttrain-mlogloss:0.293958\ttest-mlogloss:0.579639\n",
      "[1120]\ttrain-mlogloss:0.290411\ttest-mlogloss:0.579046\n",
      "[1140]\ttrain-mlogloss:0.287099\ttest-mlogloss:0.578018\n",
      "[1160]\ttrain-mlogloss:0.283706\ttest-mlogloss:0.577464\n",
      "[1180]\ttrain-mlogloss:0.280084\ttest-mlogloss:0.576556\n",
      "[1200]\ttrain-mlogloss:0.27717\ttest-mlogloss:0.57593\n",
      "[1220]\ttrain-mlogloss:0.274005\ttest-mlogloss:0.575159\n",
      "[1240]\ttrain-mlogloss:0.270845\ttest-mlogloss:0.574316\n",
      "[1260]\ttrain-mlogloss:0.26805\ttest-mlogloss:0.573639\n",
      "[1280]\ttrain-mlogloss:0.265013\ttest-mlogloss:0.573149\n",
      "[1300]\ttrain-mlogloss:0.261787\ttest-mlogloss:0.572289\n",
      "[1320]\ttrain-mlogloss:0.258583\ttest-mlogloss:0.572345\n",
      "[1340]\ttrain-mlogloss:0.255608\ttest-mlogloss:0.57202\n",
      "[1360]\ttrain-mlogloss:0.252937\ttest-mlogloss:0.571717\n",
      "[1380]\ttrain-mlogloss:0.250027\ttest-mlogloss:0.571613\n",
      "[1400]\ttrain-mlogloss:0.247506\ttest-mlogloss:0.570949\n",
      "[1420]\ttrain-mlogloss:0.244816\ttest-mlogloss:0.570186\n",
      "[1440]\ttrain-mlogloss:0.242593\ttest-mlogloss:0.569745\n",
      "[1460]\ttrain-mlogloss:0.239923\ttest-mlogloss:0.569402\n",
      "[1480]\ttrain-mlogloss:0.237449\ttest-mlogloss:0.569367\n",
      "[1500]\ttrain-mlogloss:0.234674\ttest-mlogloss:0.569451\n",
      "[1520]\ttrain-mlogloss:0.232028\ttest-mlogloss:0.569045\n",
      "[1540]\ttrain-mlogloss:0.229588\ttest-mlogloss:0.569013\n",
      "[1560]\ttrain-mlogloss:0.22743\ttest-mlogloss:0.568785\n",
      "[1580]\ttrain-mlogloss:0.225076\ttest-mlogloss:0.568368\n",
      "[1600]\ttrain-mlogloss:0.22293\ttest-mlogloss:0.568324\n",
      "[1620]\ttrain-mlogloss:0.220793\ttest-mlogloss:0.567915\n",
      "[1640]\ttrain-mlogloss:0.218797\ttest-mlogloss:0.567857\n",
      "[1660]\ttrain-mlogloss:0.216699\ttest-mlogloss:0.567886\n",
      "[1680]\ttrain-mlogloss:0.214531\ttest-mlogloss:0.568323\n",
      "Stopping. Best iteration:\n",
      "[1645]\ttrain-mlogloss:0.218234\ttest-mlogloss:0.567743\n",
      "\n",
      "[0]\ttrain-mlogloss:1.08554\ttest-mlogloss:1.08711\n",
      "Multiple eval metrics have been passed: 'test-mlogloss' will be used for early stopping.\n",
      "\n",
      "Will train until test-mlogloss hasn't improved in 50 rounds.\n",
      "[20]\ttrain-mlogloss:0.938896\ttest-mlogloss:0.962575\n",
      "[40]\ttrain-mlogloss:0.865885\ttest-mlogloss:0.905738\n",
      "[60]\ttrain-mlogloss:0.812511\ttest-mlogloss:0.867767\n",
      "[80]\ttrain-mlogloss:0.770928\ttest-mlogloss:0.839689\n",
      "[100]\ttrain-mlogloss:0.736596\ttest-mlogloss:0.816918\n",
      "[120]\ttrain-mlogloss:0.708013\ttest-mlogloss:0.798739\n",
      "[140]\ttrain-mlogloss:0.683063\ttest-mlogloss:0.781702\n",
      "[160]\ttrain-mlogloss:0.660495\ttest-mlogloss:0.767549\n",
      "[180]\ttrain-mlogloss:0.640182\ttest-mlogloss:0.755247\n",
      "[200]\ttrain-mlogloss:0.621713\ttest-mlogloss:0.742978\n",
      "[220]\ttrain-mlogloss:0.604117\ttest-mlogloss:0.732611\n",
      "[240]\ttrain-mlogloss:0.588188\ttest-mlogloss:0.722585\n",
      "[260]\ttrain-mlogloss:0.573226\ttest-mlogloss:0.713696\n",
      "[280]\ttrain-mlogloss:0.559155\ttest-mlogloss:0.705892\n",
      "[300]\ttrain-mlogloss:0.545903\ttest-mlogloss:0.698899\n",
      "[320]\ttrain-mlogloss:0.533391\ttest-mlogloss:0.692296\n",
      "[340]\ttrain-mlogloss:0.521858\ttest-mlogloss:0.68598\n",
      "[360]\ttrain-mlogloss:0.510968\ttest-mlogloss:0.679693\n",
      "[380]\ttrain-mlogloss:0.50067\ttest-mlogloss:0.673586\n",
      "[400]\ttrain-mlogloss:0.490842\ttest-mlogloss:0.668364\n",
      "[420]\ttrain-mlogloss:0.48197\ttest-mlogloss:0.663404\n",
      "[440]\ttrain-mlogloss:0.472571\ttest-mlogloss:0.658092\n",
      "[460]\ttrain-mlogloss:0.46344\ttest-mlogloss:0.653273\n",
      "[480]\ttrain-mlogloss:0.455214\ttest-mlogloss:0.649118\n",
      "[500]\ttrain-mlogloss:0.447263\ttest-mlogloss:0.645391\n",
      "[520]\ttrain-mlogloss:0.440115\ttest-mlogloss:0.641311\n",
      "[540]\ttrain-mlogloss:0.432884\ttest-mlogloss:0.637418\n",
      "[560]\ttrain-mlogloss:0.425988\ttest-mlogloss:0.634617\n",
      "[580]\ttrain-mlogloss:0.41949\ttest-mlogloss:0.631621\n",
      "[600]\ttrain-mlogloss:0.412934\ttest-mlogloss:0.628354\n",
      "[620]\ttrain-mlogloss:0.406357\ttest-mlogloss:0.6256\n",
      "[640]\ttrain-mlogloss:0.4003\ttest-mlogloss:0.62277\n",
      "[660]\ttrain-mlogloss:0.393833\ttest-mlogloss:0.619735\n",
      "[680]\ttrain-mlogloss:0.388098\ttest-mlogloss:0.617283\n",
      "[700]\ttrain-mlogloss:0.382362\ttest-mlogloss:0.614698\n",
      "[720]\ttrain-mlogloss:0.376886\ttest-mlogloss:0.612478\n",
      "[740]\ttrain-mlogloss:0.371748\ttest-mlogloss:0.610282\n",
      "[760]\ttrain-mlogloss:0.366836\ttest-mlogloss:0.607826\n",
      "[780]\ttrain-mlogloss:0.362412\ttest-mlogloss:0.605593\n",
      "[800]\ttrain-mlogloss:0.357684\ttest-mlogloss:0.603652\n",
      "[820]\ttrain-mlogloss:0.352762\ttest-mlogloss:0.601726\n",
      "[840]\ttrain-mlogloss:0.347842\ttest-mlogloss:0.600336\n",
      "[860]\ttrain-mlogloss:0.343417\ttest-mlogloss:0.598479\n",
      "[880]\ttrain-mlogloss:0.339165\ttest-mlogloss:0.597076\n",
      "[900]\ttrain-mlogloss:0.334986\ttest-mlogloss:0.595204\n",
      "[920]\ttrain-mlogloss:0.330516\ttest-mlogloss:0.59403\n",
      "[940]\ttrain-mlogloss:0.326604\ttest-mlogloss:0.59238\n",
      "[960]\ttrain-mlogloss:0.322752\ttest-mlogloss:0.591057\n",
      "[980]\ttrain-mlogloss:0.318851\ttest-mlogloss:0.589158\n",
      "[1000]\ttrain-mlogloss:0.314924\ttest-mlogloss:0.587342\n",
      "[1020]\ttrain-mlogloss:0.311383\ttest-mlogloss:0.58578\n",
      "[1040]\ttrain-mlogloss:0.307695\ttest-mlogloss:0.584526\n",
      "[1060]\ttrain-mlogloss:0.303705\ttest-mlogloss:0.583417\n",
      "[1080]\ttrain-mlogloss:0.300092\ttest-mlogloss:0.582517\n",
      "[1100]\ttrain-mlogloss:0.296767\ttest-mlogloss:0.581671\n",
      "[1120]\ttrain-mlogloss:0.293396\ttest-mlogloss:0.580459\n",
      "[1140]\ttrain-mlogloss:0.289834\ttest-mlogloss:0.579602\n",
      "[1160]\ttrain-mlogloss:0.286506\ttest-mlogloss:0.579018\n",
      "[1180]\ttrain-mlogloss:0.283164\ttest-mlogloss:0.577924\n",
      "[1200]\ttrain-mlogloss:0.279788\ttest-mlogloss:0.577271\n",
      "[1220]\ttrain-mlogloss:0.276822\ttest-mlogloss:0.576655\n",
      "[1240]\ttrain-mlogloss:0.273537\ttest-mlogloss:0.575757\n"
     ]
    },
    {
     "name": "stdout",
     "output_type": "stream",
     "text": [
      "[1260]\ttrain-mlogloss:0.270672\ttest-mlogloss:0.57509\n",
      "[1280]\ttrain-mlogloss:0.267888\ttest-mlogloss:0.574587\n",
      "[1300]\ttrain-mlogloss:0.264965\ttest-mlogloss:0.573906\n",
      "[1320]\ttrain-mlogloss:0.261982\ttest-mlogloss:0.573737\n",
      "[1340]\ttrain-mlogloss:0.25934\ttest-mlogloss:0.573126\n",
      "[1360]\ttrain-mlogloss:0.256585\ttest-mlogloss:0.572792\n",
      "[1380]\ttrain-mlogloss:0.25386\ttest-mlogloss:0.572268\n",
      "[1400]\ttrain-mlogloss:0.251179\ttest-mlogloss:0.571675\n",
      "[1420]\ttrain-mlogloss:0.248186\ttest-mlogloss:0.571792\n",
      "[1440]\ttrain-mlogloss:0.245716\ttest-mlogloss:0.571055\n",
      "[1460]\ttrain-mlogloss:0.243095\ttest-mlogloss:0.571102\n",
      "[1480]\ttrain-mlogloss:0.240524\ttest-mlogloss:0.571236\n",
      "[1500]\ttrain-mlogloss:0.238364\ttest-mlogloss:0.570765\n",
      "[1520]\ttrain-mlogloss:0.236083\ttest-mlogloss:0.570553\n",
      "[1540]\ttrain-mlogloss:0.233493\ttest-mlogloss:0.570206\n",
      "[1560]\ttrain-mlogloss:0.231224\ttest-mlogloss:0.570135\n",
      "[1580]\ttrain-mlogloss:0.228899\ttest-mlogloss:0.570236\n",
      "[1600]\ttrain-mlogloss:0.226619\ttest-mlogloss:0.570089\n",
      "Stopping. Best iteration:\n",
      "[1556]\ttrain-mlogloss:0.231716\ttest-mlogloss:0.569998\n",
      "\n",
      "[0]\ttrain-mlogloss:1.08465\ttest-mlogloss:1.08761\n",
      "Multiple eval metrics have been passed: 'test-mlogloss' will be used for early stopping.\n",
      "\n",
      "Will train until test-mlogloss hasn't improved in 50 rounds.\n",
      "[20]\ttrain-mlogloss:0.931126\ttest-mlogloss:0.962949\n",
      "[40]\ttrain-mlogloss:0.859018\ttest-mlogloss:0.908861\n",
      "[60]\ttrain-mlogloss:0.808955\ttest-mlogloss:0.872437\n",
      "[80]\ttrain-mlogloss:0.768984\ttest-mlogloss:0.84524\n",
      "[100]\ttrain-mlogloss:0.737015\ttest-mlogloss:0.822231\n",
      "[120]\ttrain-mlogloss:0.708164\ttest-mlogloss:0.802967\n",
      "[140]\ttrain-mlogloss:0.682976\ttest-mlogloss:0.786726\n",
      "[160]\ttrain-mlogloss:0.660154\ttest-mlogloss:0.772362\n",
      "[180]\ttrain-mlogloss:0.640429\ttest-mlogloss:0.760018\n",
      "[200]\ttrain-mlogloss:0.62213\ttest-mlogloss:0.74866\n",
      "[220]\ttrain-mlogloss:0.605419\ttest-mlogloss:0.737838\n",
      "[240]\ttrain-mlogloss:0.589599\ttest-mlogloss:0.728192\n",
      "[260]\ttrain-mlogloss:0.574543\ttest-mlogloss:0.719986\n",
      "[280]\ttrain-mlogloss:0.560629\ttest-mlogloss:0.711074\n",
      "[300]\ttrain-mlogloss:0.546744\ttest-mlogloss:0.703072\n",
      "[320]\ttrain-mlogloss:0.534895\ttest-mlogloss:0.695865\n",
      "[340]\ttrain-mlogloss:0.523199\ttest-mlogloss:0.689221\n",
      "[360]\ttrain-mlogloss:0.512604\ttest-mlogloss:0.683349\n",
      "[380]\ttrain-mlogloss:0.502044\ttest-mlogloss:0.677572\n",
      "[400]\ttrain-mlogloss:0.492082\ttest-mlogloss:0.672175\n",
      "[420]\ttrain-mlogloss:0.482527\ttest-mlogloss:0.66742\n",
      "[440]\ttrain-mlogloss:0.47337\ttest-mlogloss:0.662863\n",
      "[460]\ttrain-mlogloss:0.464747\ttest-mlogloss:0.659128\n",
      "[480]\ttrain-mlogloss:0.45633\ttest-mlogloss:0.655288\n",
      "[500]\ttrain-mlogloss:0.448201\ttest-mlogloss:0.650636\n",
      "[520]\ttrain-mlogloss:0.440588\ttest-mlogloss:0.646945\n",
      "[540]\ttrain-mlogloss:0.433681\ttest-mlogloss:0.642925\n",
      "[560]\ttrain-mlogloss:0.426113\ttest-mlogloss:0.639528\n",
      "[580]\ttrain-mlogloss:0.419256\ttest-mlogloss:0.636601\n",
      "[600]\ttrain-mlogloss:0.412616\ttest-mlogloss:0.633196\n",
      "[620]\ttrain-mlogloss:0.405818\ttest-mlogloss:0.630399\n",
      "[640]\ttrain-mlogloss:0.399479\ttest-mlogloss:0.627389\n",
      "[660]\ttrain-mlogloss:0.393318\ttest-mlogloss:0.624836\n",
      "[680]\ttrain-mlogloss:0.387361\ttest-mlogloss:0.622464\n",
      "[700]\ttrain-mlogloss:0.38208\ttest-mlogloss:0.619778\n",
      "[720]\ttrain-mlogloss:0.376503\ttest-mlogloss:0.617708\n",
      "[740]\ttrain-mlogloss:0.371426\ttest-mlogloss:0.615457\n",
      "[760]\ttrain-mlogloss:0.366268\ttest-mlogloss:0.61302\n",
      "[780]\ttrain-mlogloss:0.361039\ttest-mlogloss:0.610946\n",
      "[800]\ttrain-mlogloss:0.35615\ttest-mlogloss:0.608242\n",
      "[820]\ttrain-mlogloss:0.35132\ttest-mlogloss:0.606471\n",
      "[840]\ttrain-mlogloss:0.34715\ttest-mlogloss:0.604427\n",
      "[860]\ttrain-mlogloss:0.34286\ttest-mlogloss:0.602556\n",
      "[880]\ttrain-mlogloss:0.338332\ttest-mlogloss:0.600814\n",
      "[900]\ttrain-mlogloss:0.333844\ttest-mlogloss:0.599169\n",
      "[920]\ttrain-mlogloss:0.329725\ttest-mlogloss:0.597412\n",
      "[940]\ttrain-mlogloss:0.325529\ttest-mlogloss:0.595769\n",
      "[960]\ttrain-mlogloss:0.321705\ttest-mlogloss:0.594238\n",
      "[980]\ttrain-mlogloss:0.317619\ttest-mlogloss:0.593029\n",
      "[1000]\ttrain-mlogloss:0.313792\ttest-mlogloss:0.591597\n",
      "[1020]\ttrain-mlogloss:0.310314\ttest-mlogloss:0.589812\n",
      "[1040]\ttrain-mlogloss:0.306899\ttest-mlogloss:0.588715\n",
      "[1060]\ttrain-mlogloss:0.303205\ttest-mlogloss:0.587353\n",
      "[1080]\ttrain-mlogloss:0.299585\ttest-mlogloss:0.586312\n",
      "[1100]\ttrain-mlogloss:0.296019\ttest-mlogloss:0.585324\n",
      "[1120]\ttrain-mlogloss:0.292579\ttest-mlogloss:0.584425\n",
      "[1140]\ttrain-mlogloss:0.288998\ttest-mlogloss:0.583413\n",
      "[1160]\ttrain-mlogloss:0.285734\ttest-mlogloss:0.582229\n",
      "[1180]\ttrain-mlogloss:0.282496\ttest-mlogloss:0.581655\n",
      "[1200]\ttrain-mlogloss:0.27936\ttest-mlogloss:0.580618\n",
      "[1220]\ttrain-mlogloss:0.276364\ttest-mlogloss:0.579987\n",
      "[1240]\ttrain-mlogloss:0.273061\ttest-mlogloss:0.579362\n",
      "[1260]\ttrain-mlogloss:0.270051\ttest-mlogloss:0.578804\n",
      "[1280]\ttrain-mlogloss:0.267162\ttest-mlogloss:0.578233\n",
      "[1300]\ttrain-mlogloss:0.26388\ttest-mlogloss:0.577612\n",
      "[1320]\ttrain-mlogloss:0.261071\ttest-mlogloss:0.576984\n",
      "[1340]\ttrain-mlogloss:0.258687\ttest-mlogloss:0.575876\n",
      "[1360]\ttrain-mlogloss:0.256102\ttest-mlogloss:0.575221\n",
      "[1380]\ttrain-mlogloss:0.253303\ttest-mlogloss:0.575002\n",
      "[1400]\ttrain-mlogloss:0.250844\ttest-mlogloss:0.574568\n",
      "[1420]\ttrain-mlogloss:0.248221\ttest-mlogloss:0.573728\n",
      "[1440]\ttrain-mlogloss:0.245655\ttest-mlogloss:0.573316\n",
      "[1460]\ttrain-mlogloss:0.242998\ttest-mlogloss:0.572936\n",
      "[1480]\ttrain-mlogloss:0.240779\ttest-mlogloss:0.57266\n",
      "[1500]\ttrain-mlogloss:0.238358\ttest-mlogloss:0.572237\n",
      "[1520]\ttrain-mlogloss:0.23603\ttest-mlogloss:0.57191\n",
      "[1540]\ttrain-mlogloss:0.233736\ttest-mlogloss:0.571353\n",
      "[1560]\ttrain-mlogloss:0.231152\ttest-mlogloss:0.570694\n",
      "[1580]\ttrain-mlogloss:0.22848\ttest-mlogloss:0.570515\n",
      "[1600]\ttrain-mlogloss:0.226433\ttest-mlogloss:0.57039\n",
      "[1620]\ttrain-mlogloss:0.223841\ttest-mlogloss:0.570193\n",
      "[1640]\ttrain-mlogloss:0.221805\ttest-mlogloss:0.570248\n",
      "[1660]\ttrain-mlogloss:0.219437\ttest-mlogloss:0.570263\n",
      "[1680]\ttrain-mlogloss:0.217548\ttest-mlogloss:0.56997\n",
      "[1700]\ttrain-mlogloss:0.215264\ttest-mlogloss:0.569782\n",
      "[1720]\ttrain-mlogloss:0.212978\ttest-mlogloss:0.569273\n",
      "[1740]\ttrain-mlogloss:0.21097\ttest-mlogloss:0.569153\n",
      "[1760]\ttrain-mlogloss:0.20899\ttest-mlogloss:0.56894\n",
      "[1780]\ttrain-mlogloss:0.207202\ttest-mlogloss:0.568837\n",
      "[1800]\ttrain-mlogloss:0.205353\ttest-mlogloss:0.568825\n",
      "[1820]\ttrain-mlogloss:0.203148\ttest-mlogloss:0.568984\n",
      "Stopping. Best iteration:\n",
      "[1778]\ttrain-mlogloss:0.207356\ttest-mlogloss:0.568748\n",
      "\n",
      "[0]\ttrain-mlogloss:1.086\ttest-mlogloss:1.08736\n",
      "Multiple eval metrics have been passed: 'test-mlogloss' will be used for early stopping.\n",
      "\n",
      "Will train until test-mlogloss hasn't improved in 50 rounds.\n",
      "[20]\ttrain-mlogloss:0.93852\ttest-mlogloss:0.950964\n",
      "[40]\ttrain-mlogloss:0.86689\ttest-mlogloss:0.890062\n",
      "[60]\ttrain-mlogloss:0.814514\ttest-mlogloss:0.851367\n",
      "[80]\ttrain-mlogloss:0.773766\ttest-mlogloss:0.822123\n",
      "[100]\ttrain-mlogloss:0.741131\ttest-mlogloss:0.799475\n",
      "[120]\ttrain-mlogloss:0.71318\ttest-mlogloss:0.780654\n",
      "[140]\ttrain-mlogloss:0.687847\ttest-mlogloss:0.763485\n",
      "[160]\ttrain-mlogloss:0.664967\ttest-mlogloss:0.749592\n",
      "[180]\ttrain-mlogloss:0.645146\ttest-mlogloss:0.73677\n",
      "[200]\ttrain-mlogloss:0.627062\ttest-mlogloss:0.72588\n",
      "[220]\ttrain-mlogloss:0.610345\ttest-mlogloss:0.715093\n",
      "[240]\ttrain-mlogloss:0.594306\ttest-mlogloss:0.705837\n",
      "[260]\ttrain-mlogloss:0.579843\ttest-mlogloss:0.69655\n",
      "[280]\ttrain-mlogloss:0.565425\ttest-mlogloss:0.689088\n",
      "[300]\ttrain-mlogloss:0.552379\ttest-mlogloss:0.681901\n",
      "[320]\ttrain-mlogloss:0.540441\ttest-mlogloss:0.674891\n",
      "[340]\ttrain-mlogloss:0.529093\ttest-mlogloss:0.668445\n",
      "[360]\ttrain-mlogloss:0.518407\ttest-mlogloss:0.662812\n",
      "[380]\ttrain-mlogloss:0.507959\ttest-mlogloss:0.657298\n",
      "[400]\ttrain-mlogloss:0.498459\ttest-mlogloss:0.652194\n",
      "[420]\ttrain-mlogloss:0.488993\ttest-mlogloss:0.647318\n",
      "[440]\ttrain-mlogloss:0.480051\ttest-mlogloss:0.64277\n",
      "[460]\ttrain-mlogloss:0.471656\ttest-mlogloss:0.638518\n",
      "[480]\ttrain-mlogloss:0.463173\ttest-mlogloss:0.634304\n",
      "[500]\ttrain-mlogloss:0.455117\ttest-mlogloss:0.630275\n",
      "[520]\ttrain-mlogloss:0.447212\ttest-mlogloss:0.626231\n",
      "[540]\ttrain-mlogloss:0.439955\ttest-mlogloss:0.622685\n",
      "[560]\ttrain-mlogloss:0.432857\ttest-mlogloss:0.619584\n",
      "[580]\ttrain-mlogloss:0.42596\ttest-mlogloss:0.616445\n",
      "[600]\ttrain-mlogloss:0.419321\ttest-mlogloss:0.613197\n",
      "[620]\ttrain-mlogloss:0.412953\ttest-mlogloss:0.610311\n",
      "[640]\ttrain-mlogloss:0.406556\ttest-mlogloss:0.607485\n",
      "[660]\ttrain-mlogloss:0.400301\ttest-mlogloss:0.604727\n",
      "[680]\ttrain-mlogloss:0.394387\ttest-mlogloss:0.602264\n",
      "[700]\ttrain-mlogloss:0.388866\ttest-mlogloss:0.599317\n"
     ]
    },
    {
     "name": "stdout",
     "output_type": "stream",
     "text": [
      "[720]\ttrain-mlogloss:0.383545\ttest-mlogloss:0.596781\n",
      "[740]\ttrain-mlogloss:0.377923\ttest-mlogloss:0.594688\n",
      "[760]\ttrain-mlogloss:0.372687\ttest-mlogloss:0.593097\n",
      "[780]\ttrain-mlogloss:0.367861\ttest-mlogloss:0.591264\n",
      "[800]\ttrain-mlogloss:0.362825\ttest-mlogloss:0.589474\n",
      "[820]\ttrain-mlogloss:0.357861\ttest-mlogloss:0.587698\n",
      "[840]\ttrain-mlogloss:0.352689\ttest-mlogloss:0.585781\n",
      "[860]\ttrain-mlogloss:0.348391\ttest-mlogloss:0.583978\n",
      "[880]\ttrain-mlogloss:0.343833\ttest-mlogloss:0.582336\n",
      "[900]\ttrain-mlogloss:0.339674\ttest-mlogloss:0.580706\n",
      "[920]\ttrain-mlogloss:0.335067\ttest-mlogloss:0.579154\n",
      "[940]\ttrain-mlogloss:0.33088\ttest-mlogloss:0.577387\n",
      "[960]\ttrain-mlogloss:0.327086\ttest-mlogloss:0.576302\n",
      "[980]\ttrain-mlogloss:0.323222\ttest-mlogloss:0.574981\n",
      "[1000]\ttrain-mlogloss:0.318961\ttest-mlogloss:0.574058\n",
      "[1020]\ttrain-mlogloss:0.315243\ttest-mlogloss:0.572867\n",
      "[1040]\ttrain-mlogloss:0.311479\ttest-mlogloss:0.57187\n",
      "[1060]\ttrain-mlogloss:0.308088\ttest-mlogloss:0.57057\n",
      "[1080]\ttrain-mlogloss:0.304733\ttest-mlogloss:0.569429\n",
      "[1100]\ttrain-mlogloss:0.301169\ttest-mlogloss:0.568302\n",
      "[1120]\ttrain-mlogloss:0.297429\ttest-mlogloss:0.567023\n",
      "[1140]\ttrain-mlogloss:0.293859\ttest-mlogloss:0.566239\n",
      "[1160]\ttrain-mlogloss:0.290687\ttest-mlogloss:0.565279\n",
      "[1180]\ttrain-mlogloss:0.287422\ttest-mlogloss:0.564437\n",
      "[1200]\ttrain-mlogloss:0.284407\ttest-mlogloss:0.563633\n",
      "[1220]\ttrain-mlogloss:0.281096\ttest-mlogloss:0.563216\n",
      "[1240]\ttrain-mlogloss:0.27793\ttest-mlogloss:0.562407\n",
      "[1260]\ttrain-mlogloss:0.274802\ttest-mlogloss:0.561972\n",
      "[1280]\ttrain-mlogloss:0.27188\ttest-mlogloss:0.561399\n",
      "[1300]\ttrain-mlogloss:0.268746\ttest-mlogloss:0.560663\n",
      "[1320]\ttrain-mlogloss:0.265932\ttest-mlogloss:0.559794\n",
      "[1340]\ttrain-mlogloss:0.263437\ttest-mlogloss:0.558773\n",
      "[1360]\ttrain-mlogloss:0.26065\ttest-mlogloss:0.558054\n",
      "[1380]\ttrain-mlogloss:0.257907\ttest-mlogloss:0.557354\n",
      "[1400]\ttrain-mlogloss:0.255222\ttest-mlogloss:0.556315\n",
      "[1420]\ttrain-mlogloss:0.252673\ttest-mlogloss:0.555486\n",
      "[1440]\ttrain-mlogloss:0.249907\ttest-mlogloss:0.555217\n",
      "[1460]\ttrain-mlogloss:0.247603\ttest-mlogloss:0.554338\n",
      "[1480]\ttrain-mlogloss:0.245355\ttest-mlogloss:0.553498\n",
      "[1500]\ttrain-mlogloss:0.242738\ttest-mlogloss:0.552871\n",
      "[1520]\ttrain-mlogloss:0.240197\ttest-mlogloss:0.552172\n",
      "[1540]\ttrain-mlogloss:0.238119\ttest-mlogloss:0.551919\n",
      "[1560]\ttrain-mlogloss:0.2355\ttest-mlogloss:0.551445\n",
      "[1580]\ttrain-mlogloss:0.233038\ttest-mlogloss:0.550947\n",
      "[1600]\ttrain-mlogloss:0.230578\ttest-mlogloss:0.55054\n",
      "[1620]\ttrain-mlogloss:0.228377\ttest-mlogloss:0.550435\n",
      "[1640]\ttrain-mlogloss:0.226145\ttest-mlogloss:0.550508\n",
      "[1660]\ttrain-mlogloss:0.223794\ttest-mlogloss:0.550269\n",
      "[1680]\ttrain-mlogloss:0.221859\ttest-mlogloss:0.549904\n",
      "[1700]\ttrain-mlogloss:0.219786\ttest-mlogloss:0.550017\n",
      "[1720]\ttrain-mlogloss:0.217716\ttest-mlogloss:0.549851\n",
      "[1740]\ttrain-mlogloss:0.215667\ttest-mlogloss:0.549769\n",
      "[1760]\ttrain-mlogloss:0.213635\ttest-mlogloss:0.549917\n",
      "[1780]\ttrain-mlogloss:0.211196\ttest-mlogloss:0.550083\n",
      "Stopping. Best iteration:\n",
      "[1749]\ttrain-mlogloss:0.214828\ttest-mlogloss:0.549429\n",
      "\n",
      "[0]\ttrain-mlogloss:1.08549\ttest-mlogloss:1.08677\n",
      "Multiple eval metrics have been passed: 'test-mlogloss' will be used for early stopping.\n",
      "\n",
      "Will train until test-mlogloss hasn't improved in 50 rounds.\n",
      "[20]\ttrain-mlogloss:0.935156\ttest-mlogloss:0.963805\n",
      "[40]\ttrain-mlogloss:0.860618\ttest-mlogloss:0.905894\n",
      "[60]\ttrain-mlogloss:0.810165\ttest-mlogloss:0.868758\n",
      "[80]\ttrain-mlogloss:0.769759\ttest-mlogloss:0.841398\n",
      "[100]\ttrain-mlogloss:0.736309\ttest-mlogloss:0.81961\n",
      "[120]\ttrain-mlogloss:0.706576\ttest-mlogloss:0.80041\n",
      "[140]\ttrain-mlogloss:0.680999\ttest-mlogloss:0.784171\n",
      "[160]\ttrain-mlogloss:0.658947\ttest-mlogloss:0.77046\n",
      "[180]\ttrain-mlogloss:0.639005\ttest-mlogloss:0.7568\n",
      "[200]\ttrain-mlogloss:0.62051\ttest-mlogloss:0.745312\n",
      "[220]\ttrain-mlogloss:0.604053\ttest-mlogloss:0.735281\n",
      "[240]\ttrain-mlogloss:0.588258\ttest-mlogloss:0.725443\n",
      "[260]\ttrain-mlogloss:0.57345\ttest-mlogloss:0.716794\n",
      "[280]\ttrain-mlogloss:0.55927\ttest-mlogloss:0.708575\n",
      "[300]\ttrain-mlogloss:0.546657\ttest-mlogloss:0.701116\n",
      "[320]\ttrain-mlogloss:0.534314\ttest-mlogloss:0.694876\n",
      "[340]\ttrain-mlogloss:0.522291\ttest-mlogloss:0.688461\n",
      "[360]\ttrain-mlogloss:0.511584\ttest-mlogloss:0.682354\n",
      "[380]\ttrain-mlogloss:0.500549\ttest-mlogloss:0.676495\n",
      "[400]\ttrain-mlogloss:0.490713\ttest-mlogloss:0.670946\n",
      "[420]\ttrain-mlogloss:0.481471\ttest-mlogloss:0.666157\n",
      "[440]\ttrain-mlogloss:0.472313\ttest-mlogloss:0.661625\n",
      "[460]\ttrain-mlogloss:0.464285\ttest-mlogloss:0.656801\n",
      "[480]\ttrain-mlogloss:0.45607\ttest-mlogloss:0.652488\n",
      "[500]\ttrain-mlogloss:0.448272\ttest-mlogloss:0.648636\n",
      "[520]\ttrain-mlogloss:0.440494\ttest-mlogloss:0.644439\n",
      "[540]\ttrain-mlogloss:0.433175\ttest-mlogloss:0.64079\n",
      "[560]\ttrain-mlogloss:0.426064\ttest-mlogloss:0.637212\n",
      "[580]\ttrain-mlogloss:0.419487\ttest-mlogloss:0.633258\n",
      "[600]\ttrain-mlogloss:0.412648\ttest-mlogloss:0.629726\n",
      "[620]\ttrain-mlogloss:0.40642\ttest-mlogloss:0.626979\n",
      "[640]\ttrain-mlogloss:0.400167\ttest-mlogloss:0.624207\n",
      "[660]\ttrain-mlogloss:0.394467\ttest-mlogloss:0.621113\n",
      "[680]\ttrain-mlogloss:0.388255\ttest-mlogloss:0.618437\n",
      "[700]\ttrain-mlogloss:0.382277\ttest-mlogloss:0.616741\n",
      "[720]\ttrain-mlogloss:0.377127\ttest-mlogloss:0.61471\n",
      "[740]\ttrain-mlogloss:0.371173\ttest-mlogloss:0.612882\n",
      "[760]\ttrain-mlogloss:0.366086\ttest-mlogloss:0.610553\n",
      "[780]\ttrain-mlogloss:0.360951\ttest-mlogloss:0.607835\n",
      "[800]\ttrain-mlogloss:0.356374\ttest-mlogloss:0.605606\n",
      "[820]\ttrain-mlogloss:0.351755\ttest-mlogloss:0.603687\n",
      "[840]\ttrain-mlogloss:0.346699\ttest-mlogloss:0.602683\n",
      "[860]\ttrain-mlogloss:0.342079\ttest-mlogloss:0.600763\n",
      "[880]\ttrain-mlogloss:0.337727\ttest-mlogloss:0.598944\n",
      "[900]\ttrain-mlogloss:0.333659\ttest-mlogloss:0.597563\n",
      "[920]\ttrain-mlogloss:0.32947\ttest-mlogloss:0.596117\n",
      "[940]\ttrain-mlogloss:0.325525\ttest-mlogloss:0.594466\n",
      "[960]\ttrain-mlogloss:0.32136\ttest-mlogloss:0.592945\n",
      "[980]\ttrain-mlogloss:0.317302\ttest-mlogloss:0.591419\n",
      "[1000]\ttrain-mlogloss:0.313487\ttest-mlogloss:0.590594\n",
      "[1020]\ttrain-mlogloss:0.30991\ttest-mlogloss:0.589231\n",
      "[1040]\ttrain-mlogloss:0.306206\ttest-mlogloss:0.587858\n",
      "[1060]\ttrain-mlogloss:0.302421\ttest-mlogloss:0.586693\n",
      "[1080]\ttrain-mlogloss:0.298819\ttest-mlogloss:0.585516\n",
      "[1100]\ttrain-mlogloss:0.295413\ttest-mlogloss:0.584463\n",
      "[1120]\ttrain-mlogloss:0.292069\ttest-mlogloss:0.583094\n",
      "[1140]\ttrain-mlogloss:0.28863\ttest-mlogloss:0.58211\n",
      "[1160]\ttrain-mlogloss:0.285174\ttest-mlogloss:0.581147\n",
      "[1180]\ttrain-mlogloss:0.28228\ttest-mlogloss:0.579763\n",
      "[1200]\ttrain-mlogloss:0.278994\ttest-mlogloss:0.578914\n",
      "[1220]\ttrain-mlogloss:0.276048\ttest-mlogloss:0.578204\n",
      "[1240]\ttrain-mlogloss:0.273152\ttest-mlogloss:0.57749\n",
      "[1260]\ttrain-mlogloss:0.270018\ttest-mlogloss:0.576916\n",
      "[1280]\ttrain-mlogloss:0.266724\ttest-mlogloss:0.576264\n",
      "[1300]\ttrain-mlogloss:0.264075\ttest-mlogloss:0.575947\n",
      "[1320]\ttrain-mlogloss:0.261394\ttest-mlogloss:0.575165\n",
      "[1340]\ttrain-mlogloss:0.258534\ttest-mlogloss:0.574776\n",
      "[1360]\ttrain-mlogloss:0.25581\ttest-mlogloss:0.574119\n",
      "[1380]\ttrain-mlogloss:0.252888\ttest-mlogloss:0.573453\n",
      "[1400]\ttrain-mlogloss:0.250407\ttest-mlogloss:0.572592\n",
      "[1420]\ttrain-mlogloss:0.247737\ttest-mlogloss:0.572187\n",
      "[1440]\ttrain-mlogloss:0.245305\ttest-mlogloss:0.57193\n",
      "[1460]\ttrain-mlogloss:0.24256\ttest-mlogloss:0.571794\n",
      "[1480]\ttrain-mlogloss:0.239806\ttest-mlogloss:0.571692\n",
      "[1500]\ttrain-mlogloss:0.237482\ttest-mlogloss:0.571214\n",
      "[1520]\ttrain-mlogloss:0.23515\ttest-mlogloss:0.570803\n",
      "[1540]\ttrain-mlogloss:0.232544\ttest-mlogloss:0.570832\n",
      "[1560]\ttrain-mlogloss:0.230392\ttest-mlogloss:0.570393\n",
      "[1580]\ttrain-mlogloss:0.227778\ttest-mlogloss:0.570137\n",
      "[1600]\ttrain-mlogloss:0.225763\ttest-mlogloss:0.570196\n",
      "[1620]\ttrain-mlogloss:0.223527\ttest-mlogloss:0.570288\n",
      "[1640]\ttrain-mlogloss:0.221505\ttest-mlogloss:0.569611\n",
      "[1660]\ttrain-mlogloss:0.219268\ttest-mlogloss:0.56951\n",
      "[1680]\ttrain-mlogloss:0.216937\ttest-mlogloss:0.56921\n",
      "[1700]\ttrain-mlogloss:0.214687\ttest-mlogloss:0.568975\n",
      "[1720]\ttrain-mlogloss:0.21239\ttest-mlogloss:0.568619\n",
      "[1740]\ttrain-mlogloss:0.210543\ttest-mlogloss:0.568583\n",
      "[1760]\ttrain-mlogloss:0.208621\ttest-mlogloss:0.568693\n",
      "[1780]\ttrain-mlogloss:0.20658\ttest-mlogloss:0.568721\n",
      "Stopping. Best iteration:\n",
      "[1733]\ttrain-mlogloss:0.211227\ttest-mlogloss:0.568429\n",
      "\n",
      "cv scores :  [0.56774278554558322, 0.56999766015540554, 0.56874759140334064, 0.54942908718935546, 0.56842894687900025]\n"
     ]
    }
   ],
   "source": [
    "kf = model_selection.KFold(n_splits=5, shuffle=True, random_state=2017)\n",
    "cv_scores = []\n",
    "pred_full_test = 0\n",
    "pred_train = np.zeros([train_df.shape[0], 3])\n",
    "for dev_index, val_index in kf.split(train_tfidf):\n",
    "    dev_X, val_X = train_tfidf[dev_index], train_tfidf[val_index]\n",
    "    dev_y, val_y = train_y[dev_index], train_y[val_index]\n",
    "    pred_val_y, pred_test_y, model = runXGB(dev_X, dev_y, val_X, val_y, test_tfidf, seed_val=0)\n",
    "    pred_full_test = pred_full_test + pred_test_y\n",
    "    pred_train[val_index,:] = pred_val_y\n",
    "    cv_scores.append(metrics.log_loss(val_y, pred_val_y))\n",
    "print(\"cv scores : \", cv_scores)"
   ]
  },
  {
   "cell_type": "code",
   "execution_count": null,
   "metadata": {},
   "outputs": [],
   "source": [
    "pred_full_test.shape"
   ]
  },
  {
   "cell_type": "code",
   "execution_count": 252,
   "metadata": {},
   "outputs": [],
   "source": [
    "pred_full_test1=pred_full_test/5.0"
   ]
  },
  {
   "cell_type": "code",
   "execution_count": 251,
   "metadata": {},
   "outputs": [
    {
     "data": {
      "text/plain": [
       "4.9999999403953552"
      ]
     },
     "execution_count": 251,
     "metadata": {},
     "output_type": "execute_result"
    }
   ],
   "source": [
    "sum(pred_full_test[0])"
   ]
  },
  {
   "cell_type": "code",
   "execution_count": 308,
   "metadata": {},
   "outputs": [],
   "source": [
    "mj=np.array([((train_y.values==i).reshape((1,19579))*train_extra_features)[0] for i in range(3)])/19579.0"
   ]
  },
  {
   "cell_type": "code",
   "execution_count": 293,
   "metadata": {},
   "outputs": [
    {
     "data": {
      "text/plain": [
       "(19579, 9)"
      ]
     },
     "execution_count": 293,
     "metadata": {},
     "output_type": "execute_result"
    }
   ],
   "source": [
    "train_extra_features.shape"
   ]
  },
  {
   "cell_type": "code",
   "execution_count": 312,
   "metadata": {},
   "outputs": [
    {
     "name": "stdout",
     "output_type": "stream",
     "text": [
      "[ 57.38725165  44.85305685  46.81709995]\n",
      "[ 10.26584606   8.00097043   8.46366004]\n",
      "[ 0.02559255  0.01365698  0.01695337]\n",
      "[ 2.25210905  1.6053206   1.71119467]\n",
      "[ 0.02574898  0.01380624  0.01698756]\n",
      "[ 0.03040576  0.01771175  0.02114849]\n",
      "[ 0.02559255  0.01365698  0.01695337]\n",
      "[ 0.02642864  0.0143596   0.01739578]\n",
      "[ 0.02562745  0.01365965  0.01700985]\n"
     ]
    },
    {
     "data": {
      "text/plain": [
       "[None, None, None, None, None, None, None, None, None]"
      ]
     },
     "execution_count": 312,
     "metadata": {},
     "output_type": "execute_result"
    }
   ],
   "source": [
    "[print(mj[:,i]) for i in range(9)]"
   ]
  },
  {
   "cell_type": "code",
   "execution_count": 319,
   "metadata": {},
   "outputs": [
    {
     "data": {
      "text/plain": [
       "(2, 1)"
      ]
     },
     "execution_count": 319,
     "metadata": {},
     "output_type": "execute_result"
    }
   ],
   "source": [
    "np.vstack([(train_extra_features[:,6:7]>0.015),(train_extra_features[:,6:7]>0.020)]).shape"
   ]
  },
  {
   "cell_type": "code",
   "execution_count": 317,
   "metadata": {},
   "outputs": [
    {
     "data": {
      "text/plain": [
       "(19579, 1)"
      ]
     },
     "execution_count": 317,
     "metadata": {},
     "output_type": "execute_result"
    }
   ],
   "source": [
    "(train_extra_features[:,6]>0.015).shape"
   ]
  },
  {
   "cell_type": "code",
   "execution_count": 329,
   "metadata": {},
   "outputs": [],
   "source": [
    "mj=mj.transpose()"
   ]
  },
  {
   "cell_type": "code",
   "execution_count": 330,
   "metadata": {
    "collapsed": true
   },
   "outputs": [],
   "source": [
    "mj1=(mj[:,1]+mj[:,2])/2.0"
   ]
  },
  {
   "cell_type": "code",
   "execution_count": 331,
   "metadata": {
    "collapsed": true
   },
   "outputs": [],
   "source": [
    "mj0=(mj[:,1]+mj[:,0])/2.0"
   ]
  },
  {
   "cell_type": "code",
   "execution_count": 400,
   "metadata": {},
   "outputs": [],
   "source": [
    "wq0=test_extra_features>mj0"
   ]
  },
  {
   "cell_type": "code",
   "execution_count": 353,
   "metadata": {
    "collapsed": true
   },
   "outputs": [],
   "source": [
    "wq1=test_extra_features>mj1"
   ]
  },
  {
   "cell_type": "code",
   "execution_count": 354,
   "metadata": {},
   "outputs": [],
   "source": [
    "wq2=scipy.sparse.hstack((scipy.sparse.csr_matrix(wq0),scipy.sparse.csr_matrix(wq1)))"
   ]
  },
  {
   "cell_type": "code",
   "execution_count": 351,
   "metadata": {},
   "outputs": [
    {
     "data": {
      "text/plain": [
       "(19579, 18)"
      ]
     },
     "execution_count": 351,
     "metadata": {},
     "output_type": "execute_result"
    }
   ],
   "source": [
    "wq.shape"
   ]
  },
  {
   "cell_type": "code",
   "execution_count": 339,
   "metadata": {},
   "outputs": [
    {
     "data": {
      "text/plain": [
       "matrix([[ True,  True, False,  True, False,  True, False, False, False]], dtype=bool)"
      ]
     },
     "execution_count": 339,
     "metadata": {},
     "output_type": "execute_result"
    }
   ],
   "source": [
    "wq[5]"
   ]
  },
  {
   "cell_type": "code",
   "execution_count": 345,
   "metadata": {},
   "outputs": [
    {
     "data": {
      "text/plain": [
       "array([[  4.68000000e+02,   8.30000000e+01,   1.20481928e-02,\n",
       "          5.63855422e+00,   1.20481928e-02,   2.40963855e-02,\n",
       "          1.20481928e-02,   1.20481928e-02,   1.20481928e-02]])"
      ]
     },
     "execution_count": 345,
     "metadata": {},
     "output_type": "execute_result"
    }
   ],
   "source": [
    "(train_extra_features[5]).toarray()"
   ]
  },
  {
   "cell_type": "code",
   "execution_count": 346,
   "metadata": {},
   "outputs": [
    {
     "data": {
      "text/plain": [
       "array([  5.11201542e+01,   9.13340824e+00,   1.96247670e-02,\n",
       "         1.92871483e+00,   1.97776057e-02,   2.40587528e-02,\n",
       "         1.96247670e-02,   2.03941205e-02,   1.96435502e-02])"
      ]
     },
     "execution_count": 346,
     "metadata": {},
     "output_type": "execute_result"
    }
   ],
   "source": [
    "mj0"
   ]
  },
  {
   "cell_type": "code",
   "execution_count": 420,
   "metadata": {
    "collapsed": true
   },
   "outputs": [],
   "source": [
    "sf=pd.read_csv(\"/Users/souvicchakraborty/Downloads/sub_fe.csv\")"
   ]
  },
  {
   "cell_type": "code",
   "execution_count": 421,
   "metadata": {},
   "outputs": [
    {
     "data": {
      "text/plain": [
       "Index(['id', 'EAP', 'HPL', 'MWS'], dtype='object')"
      ]
     },
     "execution_count": 421,
     "metadata": {},
     "output_type": "execute_result"
    }
   ],
   "source": [
    "sf.keys()"
   ]
  },
  {
   "cell_type": "code",
   "execution_count": 422,
   "metadata": {
    "collapsed": true
   },
   "outputs": [],
   "source": [
    "sf['EAP']=0.9*sf['EAP']+pred_full_test[:,0]*0.1;sf['MWS']=0.9*sf['MWS']+pred_full_test[:,2]*0.1;sf['HPL']=0.9*sf['HPL']+pred_full_test[:,1]*0.1"
   ]
  },
  {
   "cell_type": "code",
   "execution_count": 423,
   "metadata": {
    "collapsed": true
   },
   "outputs": [],
   "source": [
    "sf.to_csv(\"./subc0.3_0.99.csv\",index=False)"
   ]
  },
  {
   "cell_type": "code",
   "execution_count": null,
   "metadata": {
    "collapsed": true
   },
   "outputs": [],
   "source": []
  }
 ],
 "metadata": {
  "kernelspec": {
   "display_name": "Python 3",
   "language": "python",
   "name": "python3"
  },
  "language_info": {
   "codemirror_mode": {
    "name": "ipython",
    "version": 3
   },
   "file_extension": ".py",
   "mimetype": "text/x-python",
   "name": "python",
   "nbconvert_exporter": "python",
   "pygments_lexer": "ipython3",
   "version": "3.6.0"
  }
 },
 "nbformat": 4,
 "nbformat_minor": 2
}
